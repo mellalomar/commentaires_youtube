{
 "cells": [
  {
   "cell_type": "code",
   "execution_count": 14,
   "metadata": {},
   "outputs": [],
   "source": [
    "import pandas as pd\n",
    "from sklearn.feature_extraction.text import CountVectorizer\n",
    "from sklearn.naive_bayes import MultinomialNB\n",
    "from sklearn.feature_extraction.text import TfidfVectorizer\n",
    "from nltk.corpus import stopwords\n",
    "from nltk.tokenize import word_tokenize\n",
    "from nltk.stem import WordNetLemmatizer\n",
    "from nltk.tokenize import word_tokenize\n",
    "from nltk.corpus import stopwords\n",
    "from sklearn.metrics import classification_report\n",
    "from sklearn.linear_model import LogisticRegression"
   ]
  },
  {
   "cell_type": "code",
   "execution_count": 15,
   "metadata": {},
   "outputs": [],
   "source": [
    "df = pd.read_csv(\"Eminem.csv\")\n",
    "df_data = df[['CONTENT', 'CLASS']]"
   ]
  },
  {
   "cell_type": "code",
   "execution_count": 16,
   "metadata": {},
   "outputs": [
    {
     "name": "stdout",
     "output_type": "stream",
     "text": [
      "              precision    recall  f1-score   support\n",
      "\n",
      "           0       0.93      0.97      0.95        67\n",
      "           1       0.97      0.94      0.96        81\n",
      "\n",
      "    accuracy                           0.95       148\n",
      "   macro avg       0.95      0.95      0.95       148\n",
      "weighted avg       0.95      0.95      0.95       148\n",
      "\n"
     ]
    }
   ],
   "source": [
    "\n",
    "\n",
    "df_x = df_data['CONTENT']\n",
    "df_y = df_data.CLASS\n",
    "corpus = df_x\n",
    "corpus_clean = []\n",
    "for txt in corpus:\n",
    "    word_tokens = [word.lower() for word in word_tokenize(txt)]\n",
    "    clean_words = [word for word in word_tokens if (not word in set(stopwords.words('english')) and  word.isalpha())]\n",
    "    lemmmatizer= WordNetLemmatizer()\n",
    "    clean_words = [lemmmatizer.lemmatize(word.lower()) for word in clean_words]\n",
    "    corpus_clean.append(' '.join(clean_words))\n",
    "\n",
    "vectorizer = TfidfVectorizer()\n",
    "X=vectorizer.fit_transform(corpus_clean)\n",
    "\n",
    "from sklearn.model_selection import train_test_split\n",
    "X_train, X_test, y_train, y_test = train_test_split(X, df_y, test_size=0.33, random_state=42)\n",
    "\n",
    "\n",
    "from sklearn.metrics import classification_report, confusion_matrix\n",
    "model = LogisticRegression(solver='liblinear', random_state=0)\n",
    "model.fit(X_train,y_train)\n",
    "y_pred = model.predict(X_test)\n",
    "classificationReport = classification_report(y_test, y_pred)\n",
    "print(classificationReport)"
   ]
  },
  {
   "cell_type": "code",
   "execution_count": 17,
   "metadata": {},
   "outputs": [
    {
     "name": "stdout",
     "output_type": "stream",
     "text": [
      "              precision    recall  f1-score   support\n",
      "\n",
      "           0       0.89      0.73      0.80        67\n",
      "           1       0.81      0.93      0.86        81\n",
      "\n",
      "    accuracy                           0.84       148\n",
      "   macro avg       0.85      0.83      0.83       148\n",
      "weighted avg       0.84      0.84      0.84       148\n",
      "\n"
     ]
    }
   ],
   "source": [
    "df_x = df_data['CONTENT']\n",
    "df_y = df_data.CLASS\n",
    "corpus = df_x\n",
    "corpus_clean = []\n",
    "for txt in corpus:\n",
    "    word_tokens = [word.lower() for word in word_tokenize(txt)]\n",
    "    clean_words = [word for word in word_tokens if (not word in set(stopwords.words('english')) and  word.isalpha())]\n",
    "    lemmmatizer= WordNetLemmatizer()\n",
    "    clean_words = [lemmmatizer.lemmatize(word.lower()) for word in clean_words]\n",
    "    corpus_clean.append(' '.join(clean_words))\n",
    "\n",
    "cv = CountVectorizer()\n",
    "X = cv.fit_transform(corpus_clean)\n",
    "\n",
    "X_train, X_test, y_train, y_test = train_test_split(X, df_y, test_size=0.33, random_state=42)\n",
    "\n",
    "clf = MultinomialNB()\n",
    "clf.fit(X_train, y_train)\n",
    "y_pred = clf.predict(X_test)\n",
    "classificationReport = classification_report(y_test, y_pred)\n",
    "print(classificationReport)"
   ]
  },
  {
   "cell_type": "code",
   "execution_count": null,
   "metadata": {},
   "outputs": [],
   "source": []
  }
 ],
 "metadata": {
  "kernelspec": {
   "display_name": "Python 3",
   "language": "python",
   "name": "python3"
  },
  "language_info": {
   "codemirror_mode": {
    "name": "ipython",
    "version": 3
   },
   "file_extension": ".py",
   "mimetype": "text/x-python",
   "name": "python",
   "nbconvert_exporter": "python",
   "pygments_lexer": "ipython3",
   "version": "3.8.3"
  }
 },
 "nbformat": 4,
 "nbformat_minor": 4
}
